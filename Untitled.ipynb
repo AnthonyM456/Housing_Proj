{
 "cells": [
  {
   "cell_type": "code",
   "execution_count": 60,
   "metadata": {},
   "outputs": [],
   "source": []
  },
  {
   "cell_type": "code",
   "execution_count": 68,
   "metadata": {},
   "outputs": [],
   "source": [
    "def maxima(packages):\n",
    "    m = -1\n",
    "    argm = 0\n",
    "    for i in range(len(packages)):\n",
    "        if packages[i] > m:\n",
    "            argm = i\n",
    "            m = packages[i]\n",
    "    return m, argm\n",
    "def minima(packages):\n",
    "    m = max(packages)\n",
    "    argm = 0\n",
    "    for i in range(len(packages)):\n",
    "        if packages[i] < m and packages[i] != 0:\n",
    "            argm = i\n",
    "            m = packages[i]\n",
    "    return m, argm"
   ]
  },
  {
   "cell_type": "code",
   "execution_count": 76,
   "metadata": {},
   "outputs": [
    {
     "name": "stdout",
     "output_type": "stream",
     "text": [
      "[3, 0, 3]\n",
      "[0, 0, 0]\n"
     ]
    },
    {
     "data": {
      "text/plain": [
       "141"
      ]
     },
     "execution_count": 76,
     "metadata": {},
     "output_type": "execute_result"
    }
   ],
   "source": [
    "steps = 0\n",
    "packages = [7 ,4, 7]\n",
    "\n",
    "while sum(packages) != 0:\n",
    "    _, argmax = maxima(packages)\n",
    "    minimum, _ = minima(packages[argmax:])\n",
    "    non_zeros = sum(map(lambda x: x != 0, packages))\n",
    "    for i in range(argmax, len(packages)):\n",
    "        if packages[i] != 0:\n",
    "            packages[i] = packages[i] - minimum\n",
    "    print(packages[argmax:])\n",
    "    for i in range(len(packages[argmax:])):\n",
    "        steps += ((len(packages) - (argmax + i)) * 2 + 2) * minimum + non_zeros\n",
    "steps"
   ]
  },
  {
   "cell_type": "code",
   "execution_count": 63,
   "metadata": {},
   "outputs": [
    {
     "data": {
      "text/plain": [
       "0"
      ]
     },
     "execution_count": 63,
     "metadata": {},
     "output_type": "execute_result"
    }
   ],
   "source": [
    "steps"
   ]
  },
  {
   "cell_type": "code",
   "execution_count": 47,
   "metadata": {},
   "outputs": [],
   "source": []
  },
  {
   "cell_type": "code",
   "execution_count": null,
   "metadata": {},
   "outputs": [],
   "source": []
  }
 ],
 "metadata": {
  "kernelspec": {
   "display_name": "Python 3",
   "language": "python",
   "name": "python3"
  },
  "language_info": {
   "codemirror_mode": {
    "name": "ipython",
    "version": 3
   },
   "file_extension": ".py",
   "mimetype": "text/x-python",
   "name": "python",
   "nbconvert_exporter": "python",
   "pygments_lexer": "ipython3",
   "version": "3.7.6"
  }
 },
 "nbformat": 4,
 "nbformat_minor": 4
}
